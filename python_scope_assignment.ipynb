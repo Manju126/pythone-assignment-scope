{
 "cells": [
  {
   "cell_type": "code",
   "execution_count": 3,
   "metadata": {},
   "outputs": [
    {
     "name": "stdout",
     "output_type": "stream",
     "text": [
      "Before calling update function, x = 5\n",
      "After calling update function, x = 10\n"
     ]
    }
   ],
   "source": [
    "# Define a global variable x with value 5. Write a Python function update_x() that tries to modify the global variable x to 10. Print the value of x before and after calling the function.\n",
    "\n",
    "# Define the global variable x\n",
    "x = 5\n",
    "\n",
    "def update_x():\n",
    "    global x  \n",
    "    x = 10 \n",
    "\n",
    "# Print the value of x before calling the function\n",
    "print(\"Before calling update function, x =\", x)\n",
    "\n",
    "# Call the function to update the global variable\n",
    "update_x()\n",
    "\n",
    "# Print the value of x after calling the function\n",
    "print(\"After calling update function, x =\", x)\n",
    "\n"
   ]
  },
  {
   "cell_type": "code",
   "execution_count": 1,
   "metadata": {},
   "outputs": [
    {
     "name": "stdout",
     "output_type": "stream",
     "text": [
      "The sum of 8 and 6 is: 14\n",
      "The product of 8 and 6 is: 48\n"
     ]
    }
   ],
   "source": [
    "#Create a Python module named calculator.py with functions add(a, b) and multiply(a, b). Import this module into another Python script and use these functions to add and multiply two numbers.\n",
    "\n",
    "# calculator.py\n",
    "\n",
    "def add(a, b):\n",
    "    \"\"\"\n",
    "    Add two numbers.\n",
    "\n",
    "    Args:\n",
    "    a (int): The first number.\n",
    "    b (int): The second number.\n",
    "\n",
    "    Returns:\n",
    "    int: The sum of a and b.\n",
    "    \"\"\"\n",
    "    return a + b\n",
    "\n",
    "def multiply(a, b):\n",
    "    \"\"\"\n",
    "    Multiply two numbers.\n",
    "\n",
    "    Args:\n",
    "    a (int): The first number.\n",
    "    b (int): The second number.\n",
    "\n",
    "    Returns:\n",
    "    int: The product of a and b.\n",
    "    \"\"\"\n",
    "    return a * b\n",
    "\n",
    "num1 = 8\n",
    "num2 = 6\n",
    "\n",
    "\n",
    "result_add = add(num1, num2)\n",
    "print(f\"The sum of {num1} and {num2} is: {result_add}\")\n",
    "\n",
    "\n",
    "result_multiply = multiply(num1, num2)\n",
    "print(f\"The product of {num1} and {num2} is: {result_multiply}\")\n"
   ]
  },
  {
   "cell_type": "code",
   "execution_count": 10,
   "metadata": {},
   "outputs": [
    {
     "name": "stdout",
     "output_type": "stream",
     "text": [
      "The number of days between 2024-04-02 and 2024-04-28 is: 26\n"
     ]
    }
   ],
   "source": [
    "#Write a Python function to find the number of days between two given dates.\n",
    "\n",
    "from datetime import datetime\n",
    "\n",
    "def days_between_dates(date1, date2):\n",
    "    \"\"\"\n",
    "    Calculate the number of days between two dates.\n",
    "\n",
    "    Args:\n",
    "        date1 (str): The first date in 'YYYY-MM-DD' format.\n",
    "        date2 (str): The second date in 'YYYY-MM-DD' format.\n",
    "\n",
    "\n",
    "    Returns:\n",
    "    int: The number of days between date1 and date2.\n",
    "    \"\"\"\n",
    "    # Convert the string dates to datetime objects\n",
    "    d1 = datetime.strptime(date1, '%Y-%m-%d')\n",
    "    d2 = datetime.strptime(date2, '%Y-%m-%d')\n",
    "    \n",
    "    # Calculate the difference between the two dates\n",
    "    delta = d2 - d1\n",
    "    \n",
    "        \n",
    "    return abs(delta.days)\n",
    "\n",
    "\n",
    "date1 = '2024-04-02'\n",
    "date2 = '2024-04-28'\n",
    "\n",
    "print(f\"The number of days between {date1} and {date2} is: {days_between_dates(date1, date2)}\")\n"
   ]
  },
  {
   "cell_type": "code",
   "execution_count": 11,
   "metadata": {},
   "outputs": [
    {
     "name": "stdout",
     "output_type": "stream",
     "text": [
      "The factorial of 4 is: 24\n"
     ]
    }
   ],
   "source": [
    "#Write a Python function to calculate the factorial of a given number n.\n",
    "\n",
    "def factorial(n):\n",
    "    \"\"\"\n",
    "    Calculate the factorial of a given number n using iteration.\n",
    "\n",
    "    Args:\n",
    "    n (int): A non-negative integer whose factorial is to be computed.\n",
    "\n",
    "    Returns:\n",
    "    int: The factorial of the given number n.\n",
    "    \"\"\"\n",
    "    if n < 0:\n",
    "        raise ValueError(\"Factorial is not defined for negative numbers\")\n",
    "    \n",
    "    result = 1\n",
    "    for i in range(1, n + 1):\n",
    "        result *= i\n",
    "    \n",
    "    return result\n",
    "\n",
    "\n",
    "number = 4\n",
    "print(f\"The factorial of {number} is: {factorial(number)}\")\n"
   ]
  },
  {
   "cell_type": "code",
   "execution_count": 15,
   "metadata": {},
   "outputs": [
    {
     "name": "stdout",
     "output_type": "stream",
     "text": [
      "{'name': 'Manoj', 'age': 32, 'city': 'England'}\n"
     ]
    }
   ],
   "source": [
    "#Given a JSON string representing a dictionary, write a Python function to convert it into a Python dictionary object.\n",
    "\n",
    "import json\n",
    "\n",
    "def json_to_dict(json_string):\n",
    "    \"\"\"\n",
    "    Convert a JSON string representing a dictionary into a Python dictionary.\n",
    "\n",
    "    Args:\n",
    "    json_string (str): A JSON string representing a dictionary.\n",
    "\n",
    "    Returns:\n",
    "    dict: A Python dictionary object.\n",
    "    \"\"\"\n",
    "    try:\n",
    "        # Parse the JSON string into a Python dictionary\n",
    "        dictionary = json.loads(json_string)\n",
    "        return dictionary\n",
    "    except json.JSONDecodeError as e:\n",
    "        print(f\"Error decoding JSON: {e}\")\n",
    "        return None\n",
    "\n",
    "\n",
    "json_string = '{\"name\": \"Manoj\", \"age\": 32, \"city\": \"England\"}'\n",
    "python_dict = json_to_dict(json_string)\n",
    "print(python_dict)\n",
    "\n"
   ]
  },
  {
   "cell_type": "code",
   "execution_count": 18,
   "metadata": {},
   "outputs": [
    {
     "name": "stdout",
     "output_type": "stream",
     "text": [
      "Extracted email addresses:\n",
      "['manjubhargavi.g@arnocit.com', 'manju.gujjula@gmail.com', 'support@arnocit.com']\n"
     ]
    }
   ],
   "source": [
    "#Write a Python program to extract all email addresses from a given text using regular expressions.\n",
    "\n",
    "import re\n",
    "\n",
    "def extract_emails(text):\n",
    "    \"\"\"\n",
    "    Extract all email addresses from a given text using regular expressions.\n",
    "\n",
    "    Args:\n",
    "    text (str): The text from which to extract email addresses.\n",
    "\n",
    "    Returns:\n",
    "    list: A list of email addresses extracted from the text.\n",
    "    \"\"\"\n",
    "    # Regular expression pattern for matching email addresses\n",
    "    pattern = r'\\b[A-Za-z0-9._%+-]+@[A-Za-z0-9.-]+\\.[A-Z|a-z]{2,}\\b'\n",
    "    \n",
    "    # Use the findall() method to extract email addresses\n",
    "    emails = re.findall(pattern, text)\n",
    "    \n",
    "    return emails\n",
    "\n",
    "\n",
    "text = \"\"\"\n",
    "This is a sample text with some email addresses like manjubhargavi.g@arnocit.com\n",
    "and manju.gujjula@gmail.com. Please contact support@arnocit.com for assistance.\n",
    "\"\"\"\n",
    "print(\"Extracted email addresses:\")\n",
    "print(extract_emails(text))\n",
    "\n",
    "\n"
   ]
  },
  {
   "cell_type": "code",
   "execution_count": 1,
   "metadata": {},
   "outputs": [
    {
     "name": "stdout",
     "output_type": "stream",
     "text": [
      "Inside the function (local z): 40\n",
      "Outside the function (global z): 40\n"
     ]
    }
   ],
   "source": [
    "#Explain the difference between local and global variables in Python with an example.\n",
    "\n",
    "\n",
    "z = 40\n",
    "\n",
    "def example_function():\n",
    "    \n",
    "    z = 40\n",
    "    print(\"Inside the function (local z):\", z)\n",
    "\n",
    "example_function()\n",
    "print(\"Outside the function (global z):\", z)\n",
    "\n"
   ]
  },
  {
   "cell_type": "code",
   "execution_count": 27,
   "metadata": {},
   "outputs": [
    {
     "name": "stdout",
     "output_type": "stream",
     "text": [
      "Addition: 8\n",
      "Subtraction: 2\n",
      "Multiplication: 15\n",
      "Division: 1.6666666666666667\n"
     ]
    }
   ],
   "source": [
    "#What is a Python module? Give an example of how to import and use a module.\n",
    "\n",
    "\n",
    "\n",
    "# math_operations.py\n",
    "\n",
    "def add(x, y):\n",
    "    return x + y\n",
    "\n",
    "def subtract(x, y):\n",
    "    return x - y\n",
    "\n",
    "def multiply(x, y):\n",
    "    return x * y\n",
    "\n",
    "def divide(x, y):\n",
    "    if y != 0:\n",
    "        return x / y\n",
    "    else:\n",
    "        return \"Error: Division by zero\"\n",
    "\n",
    "\n",
    "# main.py\n",
    "\n",
    "\n",
    "\n",
    "# Use the functions from the math_operations module\n",
    "result_add = add(5, 3)\n",
    "result_subtract = subtract(5, 3)\n",
    "result_multiply = multiply(5, 3)\n",
    "result_divide = divide(5, 3)\n",
    "\n",
    "# Print the results\n",
    "print(\"Addition:\", result_add)\n",
    "print(\"Subtraction:\", result_subtract)\n",
    "print(\"Multiplication:\", result_multiply)\n",
    "print(\"Division:\", result_divide)\n"
   ]
  },
  {
   "cell_type": "code",
   "execution_count": 23,
   "metadata": {},
   "outputs": [
    {
     "name": "stdout",
     "output_type": "stream",
     "text": [
      "Current date and time: 2024-05-24 13:17:36.523961\n"
     ]
    }
   ],
   "source": [
    "#Write a Python function to get the current date and time.\n",
    "\n",
    "from datetime import datetime\n",
    "\n",
    "def get_current_datetime():\n",
    "    \"\"\"\n",
    "    Get the current date and time.\n",
    "\n",
    "    Returns:\n",
    "    datetime: A datetime object representing the current date and time.\n",
    "    \"\"\"\n",
    "    current_datetime = datetime.now()\n",
    "    return current_datetime\n",
    "\n",
    "\n",
    "current_datetime = get_current_datetime()\n",
    "print(\"Current date and time:\", current_datetime)\n",
    "\n",
    "\n"
   ]
  },
  {
   "cell_type": "code",
   "execution_count": 21,
   "metadata": {},
   "outputs": [
    {
     "name": "stdout",
     "output_type": "stream",
     "text": [
      "GCD of 42 and 18 is: 6\n"
     ]
    }
   ],
   "source": [
    "#Write a Python function to calculate the greatest common divisor (GCD) of two numbers.\n",
    "\n",
    "def gcd(a, b):\n",
    "    \"\"\"\n",
    "    Calculate the greatest common divisor (GCD) of two numbers using the Euclidean algorithm.\n",
    "\n",
    "    Args:\n",
    "    a (int): The first number.\n",
    "    b (int): The second number.\n",
    "\n",
    "    Returns:\n",
    "    int: The greatest common divisor of a and b.\n",
    "    \"\"\"\n",
    "    while b != 0:\n",
    "        a, b = b, a % b\n",
    "    return a\n",
    "\n",
    "\n",
    "num1 = 42\n",
    "num2 = 18\n",
    "print(\"GCD of\", num1, \"and\", num2, \"is:\", gcd(num1, num2))\n",
    "\n",
    "\n",
    "    "
   ]
  }
 ],
 "metadata": {
  "kernelspec": {
   "display_name": "Python 3",
   "language": "python",
   "name": "python3"
  },
  "language_info": {
   "codemirror_mode": {
    "name": "ipython",
    "version": 3
   },
   "file_extension": ".py",
   "mimetype": "text/x-python",
   "name": "python",
   "nbconvert_exporter": "python",
   "pygments_lexer": "ipython3",
   "version": "3.12.2"
  }
 },
 "nbformat": 4,
 "nbformat_minor": 2
}
